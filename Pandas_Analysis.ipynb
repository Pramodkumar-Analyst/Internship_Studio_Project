{
 "cells": [
  {
   "cell_type": "code",
   "execution_count": 21,
   "id": "5a094293-1b51-44d2-9054-331ff8981d98",
   "metadata": {},
   "outputs": [],
   "source": [
    "import pandas as pd"
   ]
  },
  {
   "cell_type": "code",
   "execution_count": 23,
   "id": "836fa5d6-2fd6-4fce-98ba-62122452a724",
   "metadata": {},
   "outputs": [],
   "source": [
    "tran= pd.read_csv('Retail_Data_Transactions.csv')"
   ]
  },
  {
   "cell_type": "code",
   "execution_count": 25,
   "id": "1228ac19-2fa0-4ced-ab84-99b711715e28",
   "metadata": {},
   "outputs": [
    {
     "data": {
      "text/html": [
       "<div>\n",
       "<style scoped>\n",
       "    .dataframe tbody tr th:only-of-type {\n",
       "        vertical-align: middle;\n",
       "    }\n",
       "\n",
       "    .dataframe tbody tr th {\n",
       "        vertical-align: top;\n",
       "    }\n",
       "\n",
       "    .dataframe thead th {\n",
       "        text-align: right;\n",
       "    }\n",
       "</style>\n",
       "<table border=\"1\" class=\"dataframe\">\n",
       "  <thead>\n",
       "    <tr style=\"text-align: right;\">\n",
       "      <th></th>\n",
       "      <th>customer_id</th>\n",
       "      <th>trans_date</th>\n",
       "      <th>tran_amount</th>\n",
       "    </tr>\n",
       "  </thead>\n",
       "  <tbody>\n",
       "    <tr>\n",
       "      <th>0</th>\n",
       "      <td>CS5295</td>\n",
       "      <td>11-Feb-13</td>\n",
       "      <td>35</td>\n",
       "    </tr>\n",
       "    <tr>\n",
       "      <th>1</th>\n",
       "      <td>CS4768</td>\n",
       "      <td>15-Mar-15</td>\n",
       "      <td>39</td>\n",
       "    </tr>\n",
       "    <tr>\n",
       "      <th>2</th>\n",
       "      <td>CS2122</td>\n",
       "      <td>26-Feb-13</td>\n",
       "      <td>52</td>\n",
       "    </tr>\n",
       "    <tr>\n",
       "      <th>3</th>\n",
       "      <td>CS1217</td>\n",
       "      <td>16-Nov-11</td>\n",
       "      <td>99</td>\n",
       "    </tr>\n",
       "    <tr>\n",
       "      <th>4</th>\n",
       "      <td>CS1850</td>\n",
       "      <td>20-Nov-13</td>\n",
       "      <td>78</td>\n",
       "    </tr>\n",
       "    <tr>\n",
       "      <th>...</th>\n",
       "      <td>...</td>\n",
       "      <td>...</td>\n",
       "      <td>...</td>\n",
       "    </tr>\n",
       "    <tr>\n",
       "      <th>124995</th>\n",
       "      <td>CS8433</td>\n",
       "      <td>26-Jun-11</td>\n",
       "      <td>64</td>\n",
       "    </tr>\n",
       "    <tr>\n",
       "      <th>124996</th>\n",
       "      <td>CS7232</td>\n",
       "      <td>19-Aug-14</td>\n",
       "      <td>38</td>\n",
       "    </tr>\n",
       "    <tr>\n",
       "      <th>124997</th>\n",
       "      <td>CS8731</td>\n",
       "      <td>28-Nov-14</td>\n",
       "      <td>42</td>\n",
       "    </tr>\n",
       "    <tr>\n",
       "      <th>124998</th>\n",
       "      <td>CS8133</td>\n",
       "      <td>14-Dec-13</td>\n",
       "      <td>13</td>\n",
       "    </tr>\n",
       "    <tr>\n",
       "      <th>124999</th>\n",
       "      <td>CS7996</td>\n",
       "      <td>13-Dec-14</td>\n",
       "      <td>36</td>\n",
       "    </tr>\n",
       "  </tbody>\n",
       "</table>\n",
       "<p>125000 rows × 3 columns</p>\n",
       "</div>"
      ],
      "text/plain": [
       "       customer_id trans_date  tran_amount\n",
       "0           CS5295  11-Feb-13           35\n",
       "1           CS4768  15-Mar-15           39\n",
       "2           CS2122  26-Feb-13           52\n",
       "3           CS1217  16-Nov-11           99\n",
       "4           CS1850  20-Nov-13           78\n",
       "...            ...        ...          ...\n",
       "124995      CS8433  26-Jun-11           64\n",
       "124996      CS7232  19-Aug-14           38\n",
       "124997      CS8731  28-Nov-14           42\n",
       "124998      CS8133  14-Dec-13           13\n",
       "124999      CS7996  13-Dec-14           36\n",
       "\n",
       "[125000 rows x 3 columns]"
      ]
     },
     "execution_count": 25,
     "metadata": {},
     "output_type": "execute_result"
    }
   ],
   "source": [
    "tran"
   ]
  },
  {
   "cell_type": "code",
   "execution_count": 27,
   "id": "269c271f-dd8d-4b26-8cb4-43f56ef5f0ec",
   "metadata": {},
   "outputs": [],
   "source": [
    "Resp= pd.read_csv('Retail_Data_Response.csv')"
   ]
  },
  {
   "cell_type": "code",
   "execution_count": 29,
   "id": "7bb0381b-bc4f-4b28-9439-d6c8b477979e",
   "metadata": {},
   "outputs": [
    {
     "data": {
      "text/html": [
       "<div>\n",
       "<style scoped>\n",
       "    .dataframe tbody tr th:only-of-type {\n",
       "        vertical-align: middle;\n",
       "    }\n",
       "\n",
       "    .dataframe tbody tr th {\n",
       "        vertical-align: top;\n",
       "    }\n",
       "\n",
       "    .dataframe thead th {\n",
       "        text-align: right;\n",
       "    }\n",
       "</style>\n",
       "<table border=\"1\" class=\"dataframe\">\n",
       "  <thead>\n",
       "    <tr style=\"text-align: right;\">\n",
       "      <th></th>\n",
       "      <th>customer_id</th>\n",
       "      <th>response</th>\n",
       "    </tr>\n",
       "  </thead>\n",
       "  <tbody>\n",
       "    <tr>\n",
       "      <th>0</th>\n",
       "      <td>CS1112</td>\n",
       "      <td>0</td>\n",
       "    </tr>\n",
       "    <tr>\n",
       "      <th>1</th>\n",
       "      <td>CS1113</td>\n",
       "      <td>0</td>\n",
       "    </tr>\n",
       "    <tr>\n",
       "      <th>2</th>\n",
       "      <td>CS1114</td>\n",
       "      <td>1</td>\n",
       "    </tr>\n",
       "    <tr>\n",
       "      <th>3</th>\n",
       "      <td>CS1115</td>\n",
       "      <td>1</td>\n",
       "    </tr>\n",
       "    <tr>\n",
       "      <th>4</th>\n",
       "      <td>CS1116</td>\n",
       "      <td>1</td>\n",
       "    </tr>\n",
       "    <tr>\n",
       "      <th>...</th>\n",
       "      <td>...</td>\n",
       "      <td>...</td>\n",
       "    </tr>\n",
       "    <tr>\n",
       "      <th>6879</th>\n",
       "      <td>CS8996</td>\n",
       "      <td>0</td>\n",
       "    </tr>\n",
       "    <tr>\n",
       "      <th>6880</th>\n",
       "      <td>CS8997</td>\n",
       "      <td>0</td>\n",
       "    </tr>\n",
       "    <tr>\n",
       "      <th>6881</th>\n",
       "      <td>CS8998</td>\n",
       "      <td>0</td>\n",
       "    </tr>\n",
       "    <tr>\n",
       "      <th>6882</th>\n",
       "      <td>CS8999</td>\n",
       "      <td>0</td>\n",
       "    </tr>\n",
       "    <tr>\n",
       "      <th>6883</th>\n",
       "      <td>CS9000</td>\n",
       "      <td>0</td>\n",
       "    </tr>\n",
       "  </tbody>\n",
       "</table>\n",
       "<p>6884 rows × 2 columns</p>\n",
       "</div>"
      ],
      "text/plain": [
       "     customer_id  response\n",
       "0         CS1112         0\n",
       "1         CS1113         0\n",
       "2         CS1114         1\n",
       "3         CS1115         1\n",
       "4         CS1116         1\n",
       "...          ...       ...\n",
       "6879      CS8996         0\n",
       "6880      CS8997         0\n",
       "6881      CS8998         0\n",
       "6882      CS8999         0\n",
       "6883      CS9000         0\n",
       "\n",
       "[6884 rows x 2 columns]"
      ]
     },
     "execution_count": 29,
     "metadata": {},
     "output_type": "execute_result"
    }
   ],
   "source": [
    "Resp"
   ]
  },
  {
   "cell_type": "code",
   "execution_count": 31,
   "id": "8a68d756-8c72-4bc1-8a1d-381e09ff465a",
   "metadata": {},
   "outputs": [],
   "source": [
    "df=tran.merge(Resp, on='customer_id', how='left')"
   ]
  },
  {
   "cell_type": "code",
   "execution_count": 33,
   "id": "636823cb-2d32-41c2-963c-1b7cd879c0f2",
   "metadata": {},
   "outputs": [
    {
     "data": {
      "text/html": [
       "<div>\n",
       "<style scoped>\n",
       "    .dataframe tbody tr th:only-of-type {\n",
       "        vertical-align: middle;\n",
       "    }\n",
       "\n",
       "    .dataframe tbody tr th {\n",
       "        vertical-align: top;\n",
       "    }\n",
       "\n",
       "    .dataframe thead th {\n",
       "        text-align: right;\n",
       "    }\n",
       "</style>\n",
       "<table border=\"1\" class=\"dataframe\">\n",
       "  <thead>\n",
       "    <tr style=\"text-align: right;\">\n",
       "      <th></th>\n",
       "      <th>customer_id</th>\n",
       "      <th>trans_date</th>\n",
       "      <th>tran_amount</th>\n",
       "      <th>response</th>\n",
       "    </tr>\n",
       "  </thead>\n",
       "  <tbody>\n",
       "    <tr>\n",
       "      <th>0</th>\n",
       "      <td>CS5295</td>\n",
       "      <td>11-Feb-13</td>\n",
       "      <td>35</td>\n",
       "      <td>1.0</td>\n",
       "    </tr>\n",
       "    <tr>\n",
       "      <th>1</th>\n",
       "      <td>CS4768</td>\n",
       "      <td>15-Mar-15</td>\n",
       "      <td>39</td>\n",
       "      <td>1.0</td>\n",
       "    </tr>\n",
       "    <tr>\n",
       "      <th>2</th>\n",
       "      <td>CS2122</td>\n",
       "      <td>26-Feb-13</td>\n",
       "      <td>52</td>\n",
       "      <td>0.0</td>\n",
       "    </tr>\n",
       "    <tr>\n",
       "      <th>3</th>\n",
       "      <td>CS1217</td>\n",
       "      <td>16-Nov-11</td>\n",
       "      <td>99</td>\n",
       "      <td>0.0</td>\n",
       "    </tr>\n",
       "    <tr>\n",
       "      <th>4</th>\n",
       "      <td>CS1850</td>\n",
       "      <td>20-Nov-13</td>\n",
       "      <td>78</td>\n",
       "      <td>0.0</td>\n",
       "    </tr>\n",
       "    <tr>\n",
       "      <th>...</th>\n",
       "      <td>...</td>\n",
       "      <td>...</td>\n",
       "      <td>...</td>\n",
       "      <td>...</td>\n",
       "    </tr>\n",
       "    <tr>\n",
       "      <th>124995</th>\n",
       "      <td>CS8433</td>\n",
       "      <td>26-Jun-11</td>\n",
       "      <td>64</td>\n",
       "      <td>0.0</td>\n",
       "    </tr>\n",
       "    <tr>\n",
       "      <th>124996</th>\n",
       "      <td>CS7232</td>\n",
       "      <td>19-Aug-14</td>\n",
       "      <td>38</td>\n",
       "      <td>0.0</td>\n",
       "    </tr>\n",
       "    <tr>\n",
       "      <th>124997</th>\n",
       "      <td>CS8731</td>\n",
       "      <td>28-Nov-14</td>\n",
       "      <td>42</td>\n",
       "      <td>0.0</td>\n",
       "    </tr>\n",
       "    <tr>\n",
       "      <th>124998</th>\n",
       "      <td>CS8133</td>\n",
       "      <td>14-Dec-13</td>\n",
       "      <td>13</td>\n",
       "      <td>0.0</td>\n",
       "    </tr>\n",
       "    <tr>\n",
       "      <th>124999</th>\n",
       "      <td>CS7996</td>\n",
       "      <td>13-Dec-14</td>\n",
       "      <td>36</td>\n",
       "      <td>0.0</td>\n",
       "    </tr>\n",
       "  </tbody>\n",
       "</table>\n",
       "<p>125000 rows × 4 columns</p>\n",
       "</div>"
      ],
      "text/plain": [
       "       customer_id trans_date  tran_amount  response\n",
       "0           CS5295  11-Feb-13           35       1.0\n",
       "1           CS4768  15-Mar-15           39       1.0\n",
       "2           CS2122  26-Feb-13           52       0.0\n",
       "3           CS1217  16-Nov-11           99       0.0\n",
       "4           CS1850  20-Nov-13           78       0.0\n",
       "...            ...        ...          ...       ...\n",
       "124995      CS8433  26-Jun-11           64       0.0\n",
       "124996      CS7232  19-Aug-14           38       0.0\n",
       "124997      CS8731  28-Nov-14           42       0.0\n",
       "124998      CS8133  14-Dec-13           13       0.0\n",
       "124999      CS7996  13-Dec-14           36       0.0\n",
       "\n",
       "[125000 rows x 4 columns]"
      ]
     },
     "execution_count": 33,
     "metadata": {},
     "output_type": "execute_result"
    }
   ],
   "source": [
    "df"
   ]
  },
  {
   "cell_type": "code",
   "execution_count": 35,
   "id": "7b33ec9c-fb69-4c00-acb5-77e8d112c194",
   "metadata": {},
   "outputs": [
    {
     "data": {
      "text/plain": [
       "customer_id     object\n",
       "trans_date      object\n",
       "tran_amount      int64\n",
       "response       float64\n",
       "dtype: object"
      ]
     },
     "execution_count": 35,
     "metadata": {},
     "output_type": "execute_result"
    }
   ],
   "source": [
    "df.dtypes"
   ]
  },
  {
   "cell_type": "code",
   "execution_count": 37,
   "id": "c830b5cc-1d7e-4862-9eb1-9781b6e5fb16",
   "metadata": {},
   "outputs": [
    {
     "data": {
      "text/plain": [
       "(125000, 4)"
      ]
     },
     "execution_count": 37,
     "metadata": {},
     "output_type": "execute_result"
    }
   ],
   "source": [
    "df.shape"
   ]
  },
  {
   "cell_type": "code",
   "execution_count": 39,
   "id": "6a0b29b6-a880-4f1e-865f-5c330893cb42",
   "metadata": {},
   "outputs": [
    {
     "data": {
      "text/html": [
       "<div>\n",
       "<style scoped>\n",
       "    .dataframe tbody tr th:only-of-type {\n",
       "        vertical-align: middle;\n",
       "    }\n",
       "\n",
       "    .dataframe tbody tr th {\n",
       "        vertical-align: top;\n",
       "    }\n",
       "\n",
       "    .dataframe thead th {\n",
       "        text-align: right;\n",
       "    }\n",
       "</style>\n",
       "<table border=\"1\" class=\"dataframe\">\n",
       "  <thead>\n",
       "    <tr style=\"text-align: right;\">\n",
       "      <th></th>\n",
       "      <th>customer_id</th>\n",
       "      <th>trans_date</th>\n",
       "      <th>tran_amount</th>\n",
       "      <th>response</th>\n",
       "    </tr>\n",
       "  </thead>\n",
       "  <tbody>\n",
       "    <tr>\n",
       "      <th>0</th>\n",
       "      <td>CS5295</td>\n",
       "      <td>11-Feb-13</td>\n",
       "      <td>35</td>\n",
       "      <td>1.0</td>\n",
       "    </tr>\n",
       "    <tr>\n",
       "      <th>1</th>\n",
       "      <td>CS4768</td>\n",
       "      <td>15-Mar-15</td>\n",
       "      <td>39</td>\n",
       "      <td>1.0</td>\n",
       "    </tr>\n",
       "    <tr>\n",
       "      <th>2</th>\n",
       "      <td>CS2122</td>\n",
       "      <td>26-Feb-13</td>\n",
       "      <td>52</td>\n",
       "      <td>0.0</td>\n",
       "    </tr>\n",
       "    <tr>\n",
       "      <th>3</th>\n",
       "      <td>CS1217</td>\n",
       "      <td>16-Nov-11</td>\n",
       "      <td>99</td>\n",
       "      <td>0.0</td>\n",
       "    </tr>\n",
       "    <tr>\n",
       "      <th>4</th>\n",
       "      <td>CS1850</td>\n",
       "      <td>20-Nov-13</td>\n",
       "      <td>78</td>\n",
       "      <td>0.0</td>\n",
       "    </tr>\n",
       "  </tbody>\n",
       "</table>\n",
       "</div>"
      ],
      "text/plain": [
       "  customer_id trans_date  tran_amount  response\n",
       "0      CS5295  11-Feb-13           35       1.0\n",
       "1      CS4768  15-Mar-15           39       1.0\n",
       "2      CS2122  26-Feb-13           52       0.0\n",
       "3      CS1217  16-Nov-11           99       0.0\n",
       "4      CS1850  20-Nov-13           78       0.0"
      ]
     },
     "execution_count": 39,
     "metadata": {},
     "output_type": "execute_result"
    }
   ],
   "source": [
    "df.head()"
   ]
  },
  {
   "cell_type": "code",
   "execution_count": 41,
   "id": "246f6427-9c85-4418-9d21-85771ebb5306",
   "metadata": {},
   "outputs": [
    {
     "data": {
      "text/html": [
       "<div>\n",
       "<style scoped>\n",
       "    .dataframe tbody tr th:only-of-type {\n",
       "        vertical-align: middle;\n",
       "    }\n",
       "\n",
       "    .dataframe tbody tr th {\n",
       "        vertical-align: top;\n",
       "    }\n",
       "\n",
       "    .dataframe thead th {\n",
       "        text-align: right;\n",
       "    }\n",
       "</style>\n",
       "<table border=\"1\" class=\"dataframe\">\n",
       "  <thead>\n",
       "    <tr style=\"text-align: right;\">\n",
       "      <th></th>\n",
       "      <th>customer_id</th>\n",
       "      <th>trans_date</th>\n",
       "      <th>tran_amount</th>\n",
       "      <th>response</th>\n",
       "    </tr>\n",
       "  </thead>\n",
       "  <tbody>\n",
       "    <tr>\n",
       "      <th>124995</th>\n",
       "      <td>CS8433</td>\n",
       "      <td>26-Jun-11</td>\n",
       "      <td>64</td>\n",
       "      <td>0.0</td>\n",
       "    </tr>\n",
       "    <tr>\n",
       "      <th>124996</th>\n",
       "      <td>CS7232</td>\n",
       "      <td>19-Aug-14</td>\n",
       "      <td>38</td>\n",
       "      <td>0.0</td>\n",
       "    </tr>\n",
       "    <tr>\n",
       "      <th>124997</th>\n",
       "      <td>CS8731</td>\n",
       "      <td>28-Nov-14</td>\n",
       "      <td>42</td>\n",
       "      <td>0.0</td>\n",
       "    </tr>\n",
       "    <tr>\n",
       "      <th>124998</th>\n",
       "      <td>CS8133</td>\n",
       "      <td>14-Dec-13</td>\n",
       "      <td>13</td>\n",
       "      <td>0.0</td>\n",
       "    </tr>\n",
       "    <tr>\n",
       "      <th>124999</th>\n",
       "      <td>CS7996</td>\n",
       "      <td>13-Dec-14</td>\n",
       "      <td>36</td>\n",
       "      <td>0.0</td>\n",
       "    </tr>\n",
       "  </tbody>\n",
       "</table>\n",
       "</div>"
      ],
      "text/plain": [
       "       customer_id trans_date  tran_amount  response\n",
       "124995      CS8433  26-Jun-11           64       0.0\n",
       "124996      CS7232  19-Aug-14           38       0.0\n",
       "124997      CS8731  28-Nov-14           42       0.0\n",
       "124998      CS8133  14-Dec-13           13       0.0\n",
       "124999      CS7996  13-Dec-14           36       0.0"
      ]
     },
     "execution_count": 41,
     "metadata": {},
     "output_type": "execute_result"
    }
   ],
   "source": [
    "df.tail()"
   ]
  },
  {
   "cell_type": "code",
   "execution_count": 43,
   "id": "5729d0db-1f7f-4c4a-ac23-14b17d9060aa",
   "metadata": {},
   "outputs": [
    {
     "data": {
      "text/html": [
       "<div>\n",
       "<style scoped>\n",
       "    .dataframe tbody tr th:only-of-type {\n",
       "        vertical-align: middle;\n",
       "    }\n",
       "\n",
       "    .dataframe tbody tr th {\n",
       "        vertical-align: top;\n",
       "    }\n",
       "\n",
       "    .dataframe thead th {\n",
       "        text-align: right;\n",
       "    }\n",
       "</style>\n",
       "<table border=\"1\" class=\"dataframe\">\n",
       "  <thead>\n",
       "    <tr style=\"text-align: right;\">\n",
       "      <th></th>\n",
       "      <th>tran_amount</th>\n",
       "      <th>response</th>\n",
       "    </tr>\n",
       "  </thead>\n",
       "  <tbody>\n",
       "    <tr>\n",
       "      <th>count</th>\n",
       "      <td>125000.000000</td>\n",
       "      <td>124969.000000</td>\n",
       "    </tr>\n",
       "    <tr>\n",
       "      <th>mean</th>\n",
       "      <td>64.991912</td>\n",
       "      <td>0.110763</td>\n",
       "    </tr>\n",
       "    <tr>\n",
       "      <th>std</th>\n",
       "      <td>22.860006</td>\n",
       "      <td>0.313840</td>\n",
       "    </tr>\n",
       "    <tr>\n",
       "      <th>min</th>\n",
       "      <td>10.000000</td>\n",
       "      <td>0.000000</td>\n",
       "    </tr>\n",
       "    <tr>\n",
       "      <th>25%</th>\n",
       "      <td>47.000000</td>\n",
       "      <td>0.000000</td>\n",
       "    </tr>\n",
       "    <tr>\n",
       "      <th>50%</th>\n",
       "      <td>65.000000</td>\n",
       "      <td>0.000000</td>\n",
       "    </tr>\n",
       "    <tr>\n",
       "      <th>75%</th>\n",
       "      <td>83.000000</td>\n",
       "      <td>0.000000</td>\n",
       "    </tr>\n",
       "    <tr>\n",
       "      <th>max</th>\n",
       "      <td>105.000000</td>\n",
       "      <td>1.000000</td>\n",
       "    </tr>\n",
       "  </tbody>\n",
       "</table>\n",
       "</div>"
      ],
      "text/plain": [
       "         tran_amount       response\n",
       "count  125000.000000  124969.000000\n",
       "mean       64.991912       0.110763\n",
       "std        22.860006       0.313840\n",
       "min        10.000000       0.000000\n",
       "25%        47.000000       0.000000\n",
       "50%        65.000000       0.000000\n",
       "75%        83.000000       0.000000\n",
       "max       105.000000       1.000000"
      ]
     },
     "execution_count": 43,
     "metadata": {},
     "output_type": "execute_result"
    }
   ],
   "source": [
    "df.describe()"
   ]
  },
  {
   "cell_type": "code",
   "execution_count": 45,
   "id": "9ae49eff-921d-4d3c-b081-eb4763c30edb",
   "metadata": {},
   "outputs": [
    {
     "data": {
      "text/plain": [
       "customer_id     0\n",
       "trans_date      0\n",
       "tran_amount     0\n",
       "response       31\n",
       "dtype: int64"
      ]
     },
     "execution_count": 45,
     "metadata": {},
     "output_type": "execute_result"
    }
   ],
   "source": [
    "#MISSING VALUES\n",
    "df.isnull().sum()"
   ]
  },
  {
   "cell_type": "code",
   "execution_count": 47,
   "id": "c4f1a7c8-0588-4a0c-9306-31be26e041e0",
   "metadata": {},
   "outputs": [],
   "source": [
    "df=df.dropna()"
   ]
  },
  {
   "cell_type": "code",
   "execution_count": 49,
   "id": "04c160f1-10a9-4910-9d84-2d0761ef63d9",
   "metadata": {},
   "outputs": [
    {
     "data": {
      "text/html": [
       "<div>\n",
       "<style scoped>\n",
       "    .dataframe tbody tr th:only-of-type {\n",
       "        vertical-align: middle;\n",
       "    }\n",
       "\n",
       "    .dataframe tbody tr th {\n",
       "        vertical-align: top;\n",
       "    }\n",
       "\n",
       "    .dataframe thead th {\n",
       "        text-align: right;\n",
       "    }\n",
       "</style>\n",
       "<table border=\"1\" class=\"dataframe\">\n",
       "  <thead>\n",
       "    <tr style=\"text-align: right;\">\n",
       "      <th></th>\n",
       "      <th>customer_id</th>\n",
       "      <th>trans_date</th>\n",
       "      <th>tran_amount</th>\n",
       "      <th>response</th>\n",
       "    </tr>\n",
       "  </thead>\n",
       "  <tbody>\n",
       "    <tr>\n",
       "      <th>0</th>\n",
       "      <td>CS5295</td>\n",
       "      <td>11-Feb-13</td>\n",
       "      <td>35</td>\n",
       "      <td>1.0</td>\n",
       "    </tr>\n",
       "    <tr>\n",
       "      <th>1</th>\n",
       "      <td>CS4768</td>\n",
       "      <td>15-Mar-15</td>\n",
       "      <td>39</td>\n",
       "      <td>1.0</td>\n",
       "    </tr>\n",
       "    <tr>\n",
       "      <th>2</th>\n",
       "      <td>CS2122</td>\n",
       "      <td>26-Feb-13</td>\n",
       "      <td>52</td>\n",
       "      <td>0.0</td>\n",
       "    </tr>\n",
       "    <tr>\n",
       "      <th>3</th>\n",
       "      <td>CS1217</td>\n",
       "      <td>16-Nov-11</td>\n",
       "      <td>99</td>\n",
       "      <td>0.0</td>\n",
       "    </tr>\n",
       "    <tr>\n",
       "      <th>4</th>\n",
       "      <td>CS1850</td>\n",
       "      <td>20-Nov-13</td>\n",
       "      <td>78</td>\n",
       "      <td>0.0</td>\n",
       "    </tr>\n",
       "    <tr>\n",
       "      <th>...</th>\n",
       "      <td>...</td>\n",
       "      <td>...</td>\n",
       "      <td>...</td>\n",
       "      <td>...</td>\n",
       "    </tr>\n",
       "    <tr>\n",
       "      <th>124995</th>\n",
       "      <td>CS8433</td>\n",
       "      <td>26-Jun-11</td>\n",
       "      <td>64</td>\n",
       "      <td>0.0</td>\n",
       "    </tr>\n",
       "    <tr>\n",
       "      <th>124996</th>\n",
       "      <td>CS7232</td>\n",
       "      <td>19-Aug-14</td>\n",
       "      <td>38</td>\n",
       "      <td>0.0</td>\n",
       "    </tr>\n",
       "    <tr>\n",
       "      <th>124997</th>\n",
       "      <td>CS8731</td>\n",
       "      <td>28-Nov-14</td>\n",
       "      <td>42</td>\n",
       "      <td>0.0</td>\n",
       "    </tr>\n",
       "    <tr>\n",
       "      <th>124998</th>\n",
       "      <td>CS8133</td>\n",
       "      <td>14-Dec-13</td>\n",
       "      <td>13</td>\n",
       "      <td>0.0</td>\n",
       "    </tr>\n",
       "    <tr>\n",
       "      <th>124999</th>\n",
       "      <td>CS7996</td>\n",
       "      <td>13-Dec-14</td>\n",
       "      <td>36</td>\n",
       "      <td>0.0</td>\n",
       "    </tr>\n",
       "  </tbody>\n",
       "</table>\n",
       "<p>124969 rows × 4 columns</p>\n",
       "</div>"
      ],
      "text/plain": [
       "       customer_id trans_date  tran_amount  response\n",
       "0           CS5295  11-Feb-13           35       1.0\n",
       "1           CS4768  15-Mar-15           39       1.0\n",
       "2           CS2122  26-Feb-13           52       0.0\n",
       "3           CS1217  16-Nov-11           99       0.0\n",
       "4           CS1850  20-Nov-13           78       0.0\n",
       "...            ...        ...          ...       ...\n",
       "124995      CS8433  26-Jun-11           64       0.0\n",
       "124996      CS7232  19-Aug-14           38       0.0\n",
       "124997      CS8731  28-Nov-14           42       0.0\n",
       "124998      CS8133  14-Dec-13           13       0.0\n",
       "124999      CS7996  13-Dec-14           36       0.0\n",
       "\n",
       "[124969 rows x 4 columns]"
      ]
     },
     "execution_count": 49,
     "metadata": {},
     "output_type": "execute_result"
    }
   ],
   "source": [
    "df"
   ]
  },
  {
   "cell_type": "code",
   "execution_count": 49,
   "id": "e9ad67d2-e6a0-4132-9c97-0317ae60aad2",
   "metadata": {},
   "outputs": [
    {
     "name": "stderr",
     "output_type": "stream",
     "text": [
      "C:\\Users\\DELL\\AppData\\Local\\Temp\\ipykernel_11048\\2547581274.py:1: UserWarning: Could not infer format, so each element will be parsed individually, falling back to `dateutil`. To ensure parsing is consistent and as-expected, please specify a format.\n",
      "  df['trans_date']=pd.to_datetime(df['trans_date'])\n",
      "C:\\Users\\DELL\\AppData\\Local\\Temp\\ipykernel_11048\\2547581274.py:1: SettingWithCopyWarning: \n",
      "A value is trying to be set on a copy of a slice from a DataFrame.\n",
      "Try using .loc[row_indexer,col_indexer] = value instead\n",
      "\n",
      "See the caveats in the documentation: https://pandas.pydata.org/pandas-docs/stable/user_guide/indexing.html#returning-a-view-versus-a-copy\n",
      "  df['trans_date']=pd.to_datetime(df['trans_date'])\n"
     ]
    }
   ],
   "source": [
    "df['trans_date']=pd.to_datetime(df['trans_date'])"
   ]
  },
  {
   "cell_type": "code",
   "execution_count": 51,
   "id": "5131e931-b734-4490-985d-fe0802268170",
   "metadata": {},
   "outputs": [
    {
     "data": {
      "text/plain": [
       "customer_id     object\n",
       "trans_date      object\n",
       "tran_amount      int64\n",
       "response       float64\n",
       "dtype: object"
      ]
     },
     "execution_count": 51,
     "metadata": {},
     "output_type": "execute_result"
    }
   ],
   "source": [
    "df.dtypes"
   ]
  },
  {
   "cell_type": "code",
   "execution_count": 53,
   "id": "2139c394-c8ec-4359-bf64-64a8b950d6f2",
   "metadata": {},
   "outputs": [
    {
     "data": {
      "text/html": [
       "<div>\n",
       "<style scoped>\n",
       "    .dataframe tbody tr th:only-of-type {\n",
       "        vertical-align: middle;\n",
       "    }\n",
       "\n",
       "    .dataframe tbody tr th {\n",
       "        vertical-align: top;\n",
       "    }\n",
       "\n",
       "    .dataframe thead th {\n",
       "        text-align: right;\n",
       "    }\n",
       "</style>\n",
       "<table border=\"1\" class=\"dataframe\">\n",
       "  <thead>\n",
       "    <tr style=\"text-align: right;\">\n",
       "      <th></th>\n",
       "      <th>customer_id</th>\n",
       "      <th>trans_date</th>\n",
       "      <th>tran_amount</th>\n",
       "      <th>response</th>\n",
       "    </tr>\n",
       "  </thead>\n",
       "  <tbody>\n",
       "    <tr>\n",
       "      <th>0</th>\n",
       "      <td>CS5295</td>\n",
       "      <td>11-Feb-13</td>\n",
       "      <td>35</td>\n",
       "      <td>1.0</td>\n",
       "    </tr>\n",
       "    <tr>\n",
       "      <th>1</th>\n",
       "      <td>CS4768</td>\n",
       "      <td>15-Mar-15</td>\n",
       "      <td>39</td>\n",
       "      <td>1.0</td>\n",
       "    </tr>\n",
       "    <tr>\n",
       "      <th>2</th>\n",
       "      <td>CS2122</td>\n",
       "      <td>26-Feb-13</td>\n",
       "      <td>52</td>\n",
       "      <td>0.0</td>\n",
       "    </tr>\n",
       "    <tr>\n",
       "      <th>3</th>\n",
       "      <td>CS1217</td>\n",
       "      <td>16-Nov-11</td>\n",
       "      <td>99</td>\n",
       "      <td>0.0</td>\n",
       "    </tr>\n",
       "    <tr>\n",
       "      <th>4</th>\n",
       "      <td>CS1850</td>\n",
       "      <td>20-Nov-13</td>\n",
       "      <td>78</td>\n",
       "      <td>0.0</td>\n",
       "    </tr>\n",
       "    <tr>\n",
       "      <th>...</th>\n",
       "      <td>...</td>\n",
       "      <td>...</td>\n",
       "      <td>...</td>\n",
       "      <td>...</td>\n",
       "    </tr>\n",
       "    <tr>\n",
       "      <th>124995</th>\n",
       "      <td>CS8433</td>\n",
       "      <td>26-Jun-11</td>\n",
       "      <td>64</td>\n",
       "      <td>0.0</td>\n",
       "    </tr>\n",
       "    <tr>\n",
       "      <th>124996</th>\n",
       "      <td>CS7232</td>\n",
       "      <td>19-Aug-14</td>\n",
       "      <td>38</td>\n",
       "      <td>0.0</td>\n",
       "    </tr>\n",
       "    <tr>\n",
       "      <th>124997</th>\n",
       "      <td>CS8731</td>\n",
       "      <td>28-Nov-14</td>\n",
       "      <td>42</td>\n",
       "      <td>0.0</td>\n",
       "    </tr>\n",
       "    <tr>\n",
       "      <th>124998</th>\n",
       "      <td>CS8133</td>\n",
       "      <td>14-Dec-13</td>\n",
       "      <td>13</td>\n",
       "      <td>0.0</td>\n",
       "    </tr>\n",
       "    <tr>\n",
       "      <th>124999</th>\n",
       "      <td>CS7996</td>\n",
       "      <td>13-Dec-14</td>\n",
       "      <td>36</td>\n",
       "      <td>0.0</td>\n",
       "    </tr>\n",
       "  </tbody>\n",
       "</table>\n",
       "<p>124969 rows × 4 columns</p>\n",
       "</div>"
      ],
      "text/plain": [
       "       customer_id trans_date  tran_amount  response\n",
       "0           CS5295  11-Feb-13           35       1.0\n",
       "1           CS4768  15-Mar-15           39       1.0\n",
       "2           CS2122  26-Feb-13           52       0.0\n",
       "3           CS1217  16-Nov-11           99       0.0\n",
       "4           CS1850  20-Nov-13           78       0.0\n",
       "...            ...        ...          ...       ...\n",
       "124995      CS8433  26-Jun-11           64       0.0\n",
       "124996      CS7232  19-Aug-14           38       0.0\n",
       "124997      CS8731  28-Nov-14           42       0.0\n",
       "124998      CS8133  14-Dec-13           13       0.0\n",
       "124999      CS7996  13-Dec-14           36       0.0\n",
       "\n",
       "[124969 rows x 4 columns]"
      ]
     },
     "execution_count": 53,
     "metadata": {},
     "output_type": "execute_result"
    }
   ],
   "source": [
    "df"
   ]
  },
  {
   "cell_type": "code",
   "execution_count": 59,
   "id": "fb5c8f76-f12f-4cd7-9991-ea56cad7e3dd",
   "metadata": {},
   "outputs": [
    {
     "name": "stderr",
     "output_type": "stream",
     "text": [
      "C:\\Users\\DELL\\AppData\\Local\\Temp\\ipykernel_11048\\1716992196.py:1: SettingWithCopyWarning: \n",
      "A value is trying to be set on a copy of a slice from a DataFrame.\n",
      "Try using .loc[row_indexer,col_indexer] = value instead\n",
      "\n",
      "See the caveats in the documentation: https://pandas.pydata.org/pandas-docs/stable/user_guide/indexing.html#returning-a-view-versus-a-copy\n",
      "  df['response']=df['response'].astype('int64')\n"
     ]
    }
   ],
   "source": [
    "df['response']=df['response'].astype('int64')"
   ]
  },
  {
   "cell_type": "code",
   "execution_count": 55,
   "id": "4a9c920b-af35-4354-90ed-47fa643134b9",
   "metadata": {},
   "outputs": [
    {
     "data": {
      "text/plain": [
       "customer_id     object\n",
       "trans_date      object\n",
       "tran_amount      int64\n",
       "response       float64\n",
       "dtype: object"
      ]
     },
     "execution_count": 55,
     "metadata": {},
     "output_type": "execute_result"
    }
   ],
   "source": [
    "df.dtypes"
   ]
  },
  {
   "cell_type": "code",
   "execution_count": 57,
   "id": "c8115c5b-6781-4cdf-b375-931dc6b5466f",
   "metadata": {},
   "outputs": [],
   "source": [
    "#CHECK FOR OUTLIERS\n",
    "#Z-SCORE\n",
    "from scipy import stats\n",
    "import numpy as np"
   ]
  },
  {
   "cell_type": "code",
   "execution_count": 59,
   "id": "03c602f3-4d31-4530-a92a-17b419204653",
   "metadata": {},
   "outputs": [
    {
     "name": "stdout",
     "output_type": "stream",
     "text": [
      "Empty DataFrame\n",
      "Columns: [customer_id, trans_date, tran_amount, response]\n",
      "Index: []\n"
     ]
    }
   ],
   "source": [
    "#CALCULATE Z-SCORE\n",
    "z_scores= np.abs(stats.zscore(df['tran_amount']))\n",
    "\n",
    "#SET A THRESHOLD\n",
    "threshold=3\n",
    "outliers= z_scores>threshold\n",
    "\n",
    "print(df[outliers])"
   ]
  },
  {
   "cell_type": "code",
   "execution_count": 61,
   "id": "cbe988e1-dd31-4413-bae6-07c3ced1b7f3",
   "metadata": {},
   "outputs": [
    {
     "name": "stdout",
     "output_type": "stream",
     "text": [
      "Empty DataFrame\n",
      "Columns: [customer_id, trans_date, tran_amount, response]\n",
      "Index: []\n"
     ]
    }
   ],
   "source": [
    "#CHECK FOR OUTLIERS\n",
    "#Z-SCORE\n",
    "from scipy import stats\n",
    "import numpy as np\n",
    "\n",
    "#CALCULATE Z-SCORE\n",
    "z_scores= np.abs(stats.zscore(df['response']))\n",
    "\n",
    "#SET A THRESHOLD\n",
    "threshold=3\n",
    "outliers= z_scores>threshold\n",
    "\n",
    "print(df[outliers])"
   ]
  },
  {
   "cell_type": "code",
   "execution_count": 65,
   "id": "52a521ca-2e9c-487f-aa92-47afaa31e0a5",
   "metadata": {},
   "outputs": [
    {
     "data": {
      "image/png": "[encoded data removed]",
      "text/plain": [
       "<Figure size 640x480 with 1 Axes>"
      ]
     },
     "metadata": {},
     "output_type": "display_data"
    }
   ],
   "source": [
    "import seaborn as sbn\n",
    "import matplotlib.pyplot as plt\n",
    "\n",
    "sbn.boxplot(x=df['response'])\n",
    "plt.show()"
   ]
  },
  {
   "cell_type": "code",
   "execution_count": 69,
   "id": "eb2cff3c-1086-48f9-9d14-05e040fc21a7",
   "metadata": {},
   "outputs": [
    {
     "data": {
      "image/png": "[encoded data removed]",
      "text/plain": [
       "<Figure size 640x480 with 1 Axes>"
      ]
     },
     "metadata": {},
     "output_type": "display_data"
    }
   ],
   "source": [
    "import seaborn as sbn\n",
    "import matplotlib.pyplot as plt\n",
    "\n",
    "sbn.boxplot(x=df['tran_amount'])\n",
    "plt.show()"
   ]
  },
  {
   "cell_type": "code",
   "execution_count": 81,
   "id": "5e84f719-ec60-4b05-9f96-2eac009b3b58",
   "metadata": {},
   "outputs": [
    {
     "name": "stderr",
     "output_type": "stream",
     "text": [
      "C:\\Users\\DELL\\AppData\\Local\\Temp\\ipykernel_7048\\4074208347.py:2: SettingWithCopyWarning: \n",
      "A value is trying to be set on a copy of a slice from a DataFrame.\n",
      "Try using .loc[row_indexer,col_indexer] = value instead\n",
      "\n",
      "See the caveats in the documentation: https://pandas.pydata.org/pandas-docs/stable/user_guide/indexing.html#returning-a-view-versus-a-copy\n",
      "  df['trans_date'] = pd.to_datetime(df['trans_date'])\n",
      "C:\\Users\\DELL\\AppData\\Local\\Temp\\ipykernel_7048\\4074208347.py:5: SettingWithCopyWarning: \n",
      "A value is trying to be set on a copy of a slice from a DataFrame.\n",
      "Try using .loc[row_indexer,col_indexer] = value instead\n",
      "\n",
      "See the caveats in the documentation: https://pandas.pydata.org/pandas-docs/stable/user_guide/indexing.html#returning-a-view-versus-a-copy\n",
      "  df['month']= df['trans_date'].dt.month\n"
     ]
    }
   ],
   "source": [
    "# Convert to datetime\n",
    "df['trans_date'] = pd.to_datetime(df['trans_date'])\n",
    "\n",
    "#creating new columns\n",
    "df['month']= df['trans_date'].dt.month"
   ]
  },
  {
   "cell_type": "code",
   "execution_count": 83,
   "id": "152da270-7dcf-4b9f-8f2f-95874f1659e0",
   "metadata": {},
   "outputs": [
    {
     "data": {
      "text/html": [
       "<div>\n",
       "<style scoped>\n",
       "    .dataframe tbody tr th:only-of-type {\n",
       "        vertical-align: middle;\n",
       "    }\n",
       "\n",
       "    .dataframe tbody tr th {\n",
       "        vertical-align: top;\n",
       "    }\n",
       "\n",
       "    .dataframe thead th {\n",
       "        text-align: right;\n",
       "    }\n",
       "</style>\n",
       "<table border=\"1\" class=\"dataframe\">\n",
       "  <thead>\n",
       "    <tr style=\"text-align: right;\">\n",
       "      <th></th>\n",
       "      <th>customer_id</th>\n",
       "      <th>trans_date</th>\n",
       "      <th>tran_amount</th>\n",
       "      <th>response</th>\n",
       "      <th>month</th>\n",
       "    </tr>\n",
       "  </thead>\n",
       "  <tbody>\n",
       "    <tr>\n",
       "      <th>0</th>\n",
       "      <td>CS5295</td>\n",
       "      <td>2013-02-11</td>\n",
       "      <td>35</td>\n",
       "      <td>1.0</td>\n",
       "      <td>2</td>\n",
       "    </tr>\n",
       "    <tr>\n",
       "      <th>1</th>\n",
       "      <td>CS4768</td>\n",
       "      <td>2015-03-15</td>\n",
       "      <td>39</td>\n",
       "      <td>1.0</td>\n",
       "      <td>3</td>\n",
       "    </tr>\n",
       "    <tr>\n",
       "      <th>2</th>\n",
       "      <td>CS2122</td>\n",
       "      <td>2013-02-26</td>\n",
       "      <td>52</td>\n",
       "      <td>0.0</td>\n",
       "      <td>2</td>\n",
       "    </tr>\n",
       "    <tr>\n",
       "      <th>3</th>\n",
       "      <td>CS1217</td>\n",
       "      <td>2011-11-16</td>\n",
       "      <td>99</td>\n",
       "      <td>0.0</td>\n",
       "      <td>11</td>\n",
       "    </tr>\n",
       "    <tr>\n",
       "      <th>4</th>\n",
       "      <td>CS1850</td>\n",
       "      <td>2013-11-20</td>\n",
       "      <td>78</td>\n",
       "      <td>0.0</td>\n",
       "      <td>11</td>\n",
       "    </tr>\n",
       "    <tr>\n",
       "      <th>...</th>\n",
       "      <td>...</td>\n",
       "      <td>...</td>\n",
       "      <td>...</td>\n",
       "      <td>...</td>\n",
       "      <td>...</td>\n",
       "    </tr>\n",
       "    <tr>\n",
       "      <th>124995</th>\n",
       "      <td>CS8433</td>\n",
       "      <td>2011-06-26</td>\n",
       "      <td>64</td>\n",
       "      <td>0.0</td>\n",
       "      <td>6</td>\n",
       "    </tr>\n",
       "    <tr>\n",
       "      <th>124996</th>\n",
       "      <td>CS7232</td>\n",
       "      <td>2014-08-19</td>\n",
       "      <td>38</td>\n",
       "      <td>0.0</td>\n",
       "      <td>8</td>\n",
       "    </tr>\n",
       "    <tr>\n",
       "      <th>124997</th>\n",
       "      <td>CS8731</td>\n",
       "      <td>2014-11-28</td>\n",
       "      <td>42</td>\n",
       "      <td>0.0</td>\n",
       "      <td>11</td>\n",
       "    </tr>\n",
       "    <tr>\n",
       "      <th>124998</th>\n",
       "      <td>CS8133</td>\n",
       "      <td>2013-12-14</td>\n",
       "      <td>13</td>\n",
       "      <td>0.0</td>\n",
       "      <td>12</td>\n",
       "    </tr>\n",
       "    <tr>\n",
       "      <th>124999</th>\n",
       "      <td>CS7996</td>\n",
       "      <td>2014-12-13</td>\n",
       "      <td>36</td>\n",
       "      <td>0.0</td>\n",
       "      <td>12</td>\n",
       "    </tr>\n",
       "  </tbody>\n",
       "</table>\n",
       "<p>124969 rows × 5 columns</p>\n",
       "</div>"
      ],
      "text/plain": [
       "       customer_id trans_date  tran_amount  response  month\n",
       "0           CS5295 2013-02-11           35       1.0      2\n",
       "1           CS4768 2015-03-15           39       1.0      3\n",
       "2           CS2122 2013-02-26           52       0.0      2\n",
       "3           CS1217 2011-11-16           99       0.0     11\n",
       "4           CS1850 2013-11-20           78       0.0     11\n",
       "...            ...        ...          ...       ...    ...\n",
       "124995      CS8433 2011-06-26           64       0.0      6\n",
       "124996      CS7232 2014-08-19           38       0.0      8\n",
       "124997      CS8731 2014-11-28           42       0.0     11\n",
       "124998      CS8133 2013-12-14           13       0.0     12\n",
       "124999      CS7996 2014-12-13           36       0.0     12\n",
       "\n",
       "[124969 rows x 5 columns]"
      ]
     },
     "execution_count": 83,
     "metadata": {},
     "output_type": "execute_result"
    }
   ],
   "source": [
    "df"
   ]
  },
  {
   "cell_type": "code",
   "execution_count": 91,
   "id": "022fedec-3a8b-429a-b347-324f2a552873",
   "metadata": {},
   "outputs": [
    {
     "data": {
      "text/html": [
       "<div>\n",
       "<style scoped>\n",
       "    .dataframe tbody tr th:only-of-type {\n",
       "        vertical-align: middle;\n",
       "    }\n",
       "\n",
       "    .dataframe tbody tr th {\n",
       "        vertical-align: top;\n",
       "    }\n",
       "\n",
       "    .dataframe thead th {\n",
       "        text-align: right;\n",
       "    }\n",
       "</style>\n",
       "<table border=\"1\" class=\"dataframe\">\n",
       "  <thead>\n",
       "    <tr style=\"text-align: right;\">\n",
       "      <th></th>\n",
       "      <th>month</th>\n",
       "      <th>tran_amount</th>\n",
       "    </tr>\n",
       "  </thead>\n",
       "  <tbody>\n",
       "    <tr>\n",
       "      <th>0</th>\n",
       "      <td>8</td>\n",
       "      <td>726775</td>\n",
       "    </tr>\n",
       "    <tr>\n",
       "      <th>1</th>\n",
       "      <td>10</td>\n",
       "      <td>725058</td>\n",
       "    </tr>\n",
       "    <tr>\n",
       "      <th>2</th>\n",
       "      <td>1</td>\n",
       "      <td>724089</td>\n",
       "    </tr>\n",
       "  </tbody>\n",
       "</table>\n",
       "</div>"
      ],
      "text/plain": [
       "   month  tran_amount\n",
       "0      8       726775\n",
       "1     10       725058\n",
       "2      1       724089"
      ]
     },
     "execution_count": 91,
     "metadata": {},
     "output_type": "execute_result"
    }
   ],
   "source": [
    "# Which 3 months have highest transaction amount?\n",
    "\n",
    "monthly_sales= df.groupby('month')['tran_amount'].sum()\n",
    "monthly_sales= monthly_sales.sort_values(ascending=False).reset_index().head(3)\n",
    "monthly_sales"
   ]
  },
  {
   "cell_type": "code",
   "execution_count": 103,
   "id": "f279a42a-44d5-4da2-b4f9-9e6e4b2850ac",
   "metadata": {},
   "outputs": [
    {
     "data": {
      "text/html": [
       "<div>\n",
       "<style scoped>\n",
       "    .dataframe tbody tr th:only-of-type {\n",
       "        vertical-align: middle;\n",
       "    }\n",
       "\n",
       "    .dataframe tbody tr th {\n",
       "        vertical-align: top;\n",
       "    }\n",
       "\n",
       "    .dataframe thead th {\n",
       "        text-align: right;\n",
       "    }\n",
       "</style>\n",
       "<table border=\"1\" class=\"dataframe\">\n",
       "  <thead>\n",
       "    <tr style=\"text-align: right;\">\n",
       "      <th></th>\n",
       "      <th>customer_id</th>\n",
       "      <th>count</th>\n",
       "    </tr>\n",
       "  </thead>\n",
       "  <tbody>\n",
       "    <tr>\n",
       "      <th>0</th>\n",
       "      <td>CS4424</td>\n",
       "      <td>39</td>\n",
       "    </tr>\n",
       "    <tr>\n",
       "      <th>1</th>\n",
       "      <td>CS4320</td>\n",
       "      <td>38</td>\n",
       "    </tr>\n",
       "    <tr>\n",
       "      <th>2</th>\n",
       "      <td>CS3799</td>\n",
       "      <td>36</td>\n",
       "    </tr>\n",
       "    <tr>\n",
       "      <th>3</th>\n",
       "      <td>CS3013</td>\n",
       "      <td>35</td>\n",
       "    </tr>\n",
       "    <tr>\n",
       "      <th>4</th>\n",
       "      <td>CS1215</td>\n",
       "      <td>35</td>\n",
       "    </tr>\n",
       "  </tbody>\n",
       "</table>\n",
       "</div>"
      ],
      "text/plain": [
       "  customer_id  count\n",
       "0      CS4424     39\n",
       "1      CS4320     38\n",
       "2      CS3799     36\n",
       "3      CS3013     35\n",
       "4      CS1215     35"
      ]
     },
     "execution_count": 103,
     "metadata": {},
     "output_type": "execute_result"
    }
   ],
   "source": [
    "# Customers having highest number of orders?\n",
    "\n",
    "customer_counts= df['customer_id'].value_counts().reset_index()\n",
    "customer_counts.columns=['customer_id', 'count']\n",
    "\n",
    "#Sort\n",
    "Top_5_customer= customer_counts.sort_values(by='count', ascending=False).head(5)\n",
    "Top_5_customer"
   ]
  },
  {
   "cell_type": "code",
   "execution_count": 111,
   "id": "5a52cbdc-ea86-4ab8-a015-03a9d3e9455a",
   "metadata": {},
   "outputs": [
    {
     "data": {
      "text/plain": [
       "<Axes: xlabel='customer_id', ylabel='count'>"
      ]
     },
     "execution_count": 111,
     "metadata": {},
     "output_type": "execute_result"
    },
    {
     "data": {
      "image/png": "[encoded data removed]",
      "text/plain": [
       "<Figure size 640x480 with 1 Axes>"
      ]
     },
     "metadata": {},
     "output_type": "display_data"
    }
   ],
   "source": [
    "sbn.barplot(x='customer_id', y='count', data=Top_5_customer)"
   ]
  },
  {
   "cell_type": "code",
   "execution_count": 113,
   "id": "5ffbf911-379b-4ada-8502-0a436bbe586e",
   "metadata": {},
   "outputs": [
    {
     "data": {
      "text/html": [
       "<div>\n",
       "<style scoped>\n",
       "    .dataframe tbody tr th:only-of-type {\n",
       "        vertical-align: middle;\n",
       "    }\n",
       "\n",
       "    .dataframe tbody tr th {\n",
       "        vertical-align: top;\n",
       "    }\n",
       "\n",
       "    .dataframe thead th {\n",
       "        text-align: right;\n",
       "    }\n",
       "</style>\n",
       "<table border=\"1\" class=\"dataframe\">\n",
       "  <thead>\n",
       "    <tr style=\"text-align: right;\">\n",
       "      <th></th>\n",
       "      <th>customer_id</th>\n",
       "      <th>tran_amount</th>\n",
       "    </tr>\n",
       "  </thead>\n",
       "  <tbody>\n",
       "    <tr>\n",
       "      <th>3312</th>\n",
       "      <td>CS4424</td>\n",
       "      <td>2933</td>\n",
       "    </tr>\n",
       "    <tr>\n",
       "      <th>3208</th>\n",
       "      <td>CS4320</td>\n",
       "      <td>2647</td>\n",
       "    </tr>\n",
       "    <tr>\n",
       "      <th>4640</th>\n",
       "      <td>CS5752</td>\n",
       "      <td>2612</td>\n",
       "    </tr>\n",
       "    <tr>\n",
       "      <th>3548</th>\n",
       "      <td>CS4660</td>\n",
       "      <td>2527</td>\n",
       "    </tr>\n",
       "    <tr>\n",
       "      <th>2687</th>\n",
       "      <td>CS3799</td>\n",
       "      <td>2513</td>\n",
       "    </tr>\n",
       "  </tbody>\n",
       "</table>\n",
       "</div>"
      ],
      "text/plain": [
       "     customer_id  tran_amount\n",
       "3312      CS4424         2933\n",
       "3208      CS4320         2647\n",
       "4640      CS5752         2612\n",
       "3548      CS4660         2527\n",
       "2687      CS3799         2513"
      ]
     },
     "execution_count": 113,
     "metadata": {},
     "output_type": "execute_result"
    }
   ],
   "source": [
    "# Customers having highest value of orders\n",
    "\n",
    "customer_sales= df.groupby('customer_id')['tran_amount'].sum().reset_index()\n",
    "customer_sales\n",
    "\n",
    "#Sort\n",
    "Top_5_sales= customer_sales.sort_values(by='tran_amount', ascending=False).head(5)\n",
    "Top_5_sales"
   ]
  },
  {
   "cell_type": "code",
   "execution_count": 115,
   "id": "fa25a79b-0197-4527-88b9-2fc2a22758c7",
   "metadata": {},
   "outputs": [
    {
     "data": {
      "text/plain": [
       "<Axes: xlabel='customer_id', ylabel='tran_amount'>"
      ]
     },
     "execution_count": 115,
     "metadata": {},
     "output_type": "execute_result"
    },
    {
     "data": {
      "image/png": "[encoded data removed]",
      "text/plain": [
       "<Figure size 640x480 with 1 Axes>"
      ]
     },
     "metadata": {},
     "output_type": "display_data"
    }
   ],
   "source": [
    "sbn.barplot(x='customer_id', y='tran_amount', data=Top_5_sales)"
   ]
  },
  {
   "cell_type": "markdown",
   "id": "0aa17a67-0f4c-4320-b020-ac726cd0c439",
   "metadata": {},
   "source": [
    "<h2>Advance Analytics</h2>"
   ]
  },
  {
   "cell_type": "markdown",
   "id": "82e3d3a0-b6a6-4d50-8e86-f5e9d187af43",
   "metadata": {},
   "source": [
    "**Time Series Analysis**"
   ]
  },
  {
   "cell_type": "code",
   "execution_count": 149,
   "id": "e7cd5856-661a-4b3b-b587-00d382254235",
   "metadata": {},
   "outputs": [
    {
     "name": "stderr",
     "output_type": "stream",
     "text": [
      "C:\\Users\\DELL\\AppData\\Local\\Temp\\ipykernel_7048\\3765709134.py:2: SettingWithCopyWarning: \n",
      "A value is trying to be set on a copy of a slice from a DataFrame.\n",
      "Try using .loc[row_indexer,col_indexer] = value instead\n",
      "\n",
      "See the caveats in the documentation: https://pandas.pydata.org/pandas-docs/stable/user_guide/indexing.html#returning-a-view-versus-a-copy\n",
      "  df['month_year'] = df['trans_date'].dt.to_period('M')\n"
     ]
    },
    {
     "data": {
      "image/png": "[encoded data removed]",
      "text/plain": [
       "<Figure size 1200x600 with 1 Axes>"
      ]
     },
     "metadata": {},
     "output_type": "display_data"
    }
   ],
   "source": [
    "import matplotlib.dates as mdates\n",
    "df['month_year'] = df['trans_date'].dt.to_period('M')\n",
    "monthly_sales = df.groupby('month_year')['tran_amount'].sum()\n",
    "\n",
    "monthly_sales.index = monthly_sales.index.to_timestamp()\n",
    "plt.figure(figsize=(12,6))\n",
    "plt.plot(monthly_sales.index, monthly_sales.values)\n",
    "\n",
    "plt.gca().xaxis.set_major_formatter(mdates.DateFormatter('%Y-%m'))\n",
    "plt.gca().xaxis.set_major_locator(mdates.MonthLocator(interval=6))\n",
    "\n",
    "plt.xlabel('Month-Year')\n",
    "plt.ylabel('sales')\n",
    "plt.title('Monthly Sales')\n",
    "plt.xticks(rotation=45)\n",
    "plt.tight_layout()\n",
    "plt.show()"
   ]
  },
  {
   "cell_type": "markdown",
   "id": "94b52c63-8cfa-4671-ae67-1c575b5ff961",
   "metadata": {},
   "source": [
    "**Cohort Segmentation**"
   ]
  },
  {
   "cell_type": "code",
   "execution_count": 175,
   "id": "db7ce613-d84f-4003-84ec-59091359792f",
   "metadata": {},
   "outputs": [],
   "source": [
    "# Recency\n",
    "recency = df.groupby('customer_id')['trans_date'].max()\n",
    "\n",
    "# Frequency\n",
    "frequency = df.groupby('customer_id')['trans_date'].count()\n",
    "\n",
    "# Monetary\n",
    "monetary = df.groupby('customer_id')['tran_amount'].sum()\n",
    "\n",
    "# Combine\n",
    "rfm = pd.DataFrame({'recency':recency, 'frequency':frequency, 'monetary':monetary})\n"
   ]
  },
  {
   "cell_type": "code",
   "execution_count": 177,
   "id": "d17b5cb5-c5ce-4833-bb38-5c2b522a61e9",
   "metadata": {},
   "outputs": [
    {
     "data": {
      "text/html": [
       "<div>\n",
       "<style scoped>\n",
       "    .dataframe tbody tr th:only-of-type {\n",
       "        vertical-align: middle;\n",
       "    }\n",
       "\n",
       "    .dataframe tbody tr th {\n",
       "        vertical-align: top;\n",
       "    }\n",
       "\n",
       "    .dataframe thead th {\n",
       "        text-align: right;\n",
       "    }\n",
       "</style>\n",
       "<table border=\"1\" class=\"dataframe\">\n",
       "  <thead>\n",
       "    <tr style=\"text-align: right;\">\n",
       "      <th></th>\n",
       "      <th>recency</th>\n",
       "      <th>frequency</th>\n",
       "      <th>monetary</th>\n",
       "    </tr>\n",
       "    <tr>\n",
       "      <th>customer_id</th>\n",
       "      <th></th>\n",
       "      <th></th>\n",
       "      <th></th>\n",
       "    </tr>\n",
       "  </thead>\n",
       "  <tbody>\n",
       "    <tr>\n",
       "      <th>CS1112</th>\n",
       "      <td>2015-01-14</td>\n",
       "      <td>15</td>\n",
       "      <td>1012</td>\n",
       "    </tr>\n",
       "    <tr>\n",
       "      <th>CS1113</th>\n",
       "      <td>2015-02-09</td>\n",
       "      <td>20</td>\n",
       "      <td>1490</td>\n",
       "    </tr>\n",
       "    <tr>\n",
       "      <th>CS1114</th>\n",
       "      <td>2015-02-12</td>\n",
       "      <td>19</td>\n",
       "      <td>1432</td>\n",
       "    </tr>\n",
       "    <tr>\n",
       "      <th>CS1115</th>\n",
       "      <td>2015-03-05</td>\n",
       "      <td>22</td>\n",
       "      <td>1659</td>\n",
       "    </tr>\n",
       "    <tr>\n",
       "      <th>CS1116</th>\n",
       "      <td>2014-08-25</td>\n",
       "      <td>13</td>\n",
       "      <td>857</td>\n",
       "    </tr>\n",
       "    <tr>\n",
       "      <th>...</th>\n",
       "      <td>...</td>\n",
       "      <td>...</td>\n",
       "      <td>...</td>\n",
       "    </tr>\n",
       "    <tr>\n",
       "      <th>CS8996</th>\n",
       "      <td>2014-12-09</td>\n",
       "      <td>13</td>\n",
       "      <td>582</td>\n",
       "    </tr>\n",
       "    <tr>\n",
       "      <th>CS8997</th>\n",
       "      <td>2014-06-28</td>\n",
       "      <td>14</td>\n",
       "      <td>543</td>\n",
       "    </tr>\n",
       "    <tr>\n",
       "      <th>CS8998</th>\n",
       "      <td>2014-12-22</td>\n",
       "      <td>13</td>\n",
       "      <td>624</td>\n",
       "    </tr>\n",
       "    <tr>\n",
       "      <th>CS8999</th>\n",
       "      <td>2014-07-02</td>\n",
       "      <td>12</td>\n",
       "      <td>383</td>\n",
       "    </tr>\n",
       "    <tr>\n",
       "      <th>CS9000</th>\n",
       "      <td>2015-02-28</td>\n",
       "      <td>13</td>\n",
       "      <td>533</td>\n",
       "    </tr>\n",
       "  </tbody>\n",
       "</table>\n",
       "<p>6884 rows × 3 columns</p>\n",
       "</div>"
      ],
      "text/plain": [
       "               recency  frequency  monetary\n",
       "customer_id                                \n",
       "CS1112      2015-01-14         15      1012\n",
       "CS1113      2015-02-09         20      1490\n",
       "CS1114      2015-02-12         19      1432\n",
       "CS1115      2015-03-05         22      1659\n",
       "CS1116      2014-08-25         13       857\n",
       "...                ...        ...       ...\n",
       "CS8996      2014-12-09         13       582\n",
       "CS8997      2014-06-28         14       543\n",
       "CS8998      2014-12-22         13       624\n",
       "CS8999      2014-07-02         12       383\n",
       "CS9000      2015-02-28         13       533\n",
       "\n",
       "[6884 rows x 3 columns]"
      ]
     },
     "execution_count": 177,
     "metadata": {},
     "output_type": "execute_result"
    }
   ],
   "source": [
    "rfm"
   ]
  },
  {
   "cell_type": "code",
   "execution_count": 179,
   "id": "0ff0b8f4-1b89-4653-9167-776381f7fa48",
   "metadata": {},
   "outputs": [],
   "source": [
    "# Customer Segmentation\n",
    "\n",
    "def segment_customer(row):\n",
    "    if row['recency'].year >= 2012 and row['frequency'] >= 15 and row['monetary'] > 1000:\n",
    "        return 'P0'\n",
    "    elif (2011 <= row['recency'].year < 2012) and (10 < row['frequency'] <= 15) and (500 < row['monetary'] <= 1000):\n",
    "        return 'P1'\n",
    "    else:\n",
    "        return 'P2'\n",
    "\n",
    "rfm['Segment'] = rfm.apply(segment_customer, axis=1)"
   ]
  },
  {
   "cell_type": "code",
   "execution_count": 181,
   "id": "2e368210-b86f-4f84-8157-9f29992f02b5",
   "metadata": {},
   "outputs": [
    {
     "data": {
      "text/html": [
       "<div>\n",
       "<style scoped>\n",
       "    .dataframe tbody tr th:only-of-type {\n",
       "        vertical-align: middle;\n",
       "    }\n",
       "\n",
       "    .dataframe tbody tr th {\n",
       "        vertical-align: top;\n",
       "    }\n",
       "\n",
       "    .dataframe thead th {\n",
       "        text-align: right;\n",
       "    }\n",
       "</style>\n",
       "<table border=\"1\" class=\"dataframe\">\n",
       "  <thead>\n",
       "    <tr style=\"text-align: right;\">\n",
       "      <th></th>\n",
       "      <th>recency</th>\n",
       "      <th>frequency</th>\n",
       "      <th>monetary</th>\n",
       "      <th>Segment</th>\n",
       "    </tr>\n",
       "    <tr>\n",
       "      <th>customer_id</th>\n",
       "      <th></th>\n",
       "      <th></th>\n",
       "      <th></th>\n",
       "      <th></th>\n",
       "    </tr>\n",
       "  </thead>\n",
       "  <tbody>\n",
       "    <tr>\n",
       "      <th>CS1112</th>\n",
       "      <td>2015-01-14</td>\n",
       "      <td>15</td>\n",
       "      <td>1012</td>\n",
       "      <td>P0</td>\n",
       "    </tr>\n",
       "    <tr>\n",
       "      <th>CS1113</th>\n",
       "      <td>2015-02-09</td>\n",
       "      <td>20</td>\n",
       "      <td>1490</td>\n",
       "      <td>P0</td>\n",
       "    </tr>\n",
       "    <tr>\n",
       "      <th>CS1114</th>\n",
       "      <td>2015-02-12</td>\n",
       "      <td>19</td>\n",
       "      <td>1432</td>\n",
       "      <td>P0</td>\n",
       "    </tr>\n",
       "    <tr>\n",
       "      <th>CS1115</th>\n",
       "      <td>2015-03-05</td>\n",
       "      <td>22</td>\n",
       "      <td>1659</td>\n",
       "      <td>P0</td>\n",
       "    </tr>\n",
       "    <tr>\n",
       "      <th>CS1116</th>\n",
       "      <td>2014-08-25</td>\n",
       "      <td>13</td>\n",
       "      <td>857</td>\n",
       "      <td>P2</td>\n",
       "    </tr>\n",
       "    <tr>\n",
       "      <th>...</th>\n",
       "      <td>...</td>\n",
       "      <td>...</td>\n",
       "      <td>...</td>\n",
       "      <td>...</td>\n",
       "    </tr>\n",
       "    <tr>\n",
       "      <th>CS8996</th>\n",
       "      <td>2014-12-09</td>\n",
       "      <td>13</td>\n",
       "      <td>582</td>\n",
       "      <td>P2</td>\n",
       "    </tr>\n",
       "    <tr>\n",
       "      <th>CS8997</th>\n",
       "      <td>2014-06-28</td>\n",
       "      <td>14</td>\n",
       "      <td>543</td>\n",
       "      <td>P2</td>\n",
       "    </tr>\n",
       "    <tr>\n",
       "      <th>CS8998</th>\n",
       "      <td>2014-12-22</td>\n",
       "      <td>13</td>\n",
       "      <td>624</td>\n",
       "      <td>P2</td>\n",
       "    </tr>\n",
       "    <tr>\n",
       "      <th>CS8999</th>\n",
       "      <td>2014-07-02</td>\n",
       "      <td>12</td>\n",
       "      <td>383</td>\n",
       "      <td>P2</td>\n",
       "    </tr>\n",
       "    <tr>\n",
       "      <th>CS9000</th>\n",
       "      <td>2015-02-28</td>\n",
       "      <td>13</td>\n",
       "      <td>533</td>\n",
       "      <td>P2</td>\n",
       "    </tr>\n",
       "  </tbody>\n",
       "</table>\n",
       "<p>6884 rows × 4 columns</p>\n",
       "</div>"
      ],
      "text/plain": [
       "               recency  frequency  monetary Segment\n",
       "customer_id                                        \n",
       "CS1112      2015-01-14         15      1012      P0\n",
       "CS1113      2015-02-09         20      1490      P0\n",
       "CS1114      2015-02-12         19      1432      P0\n",
       "CS1115      2015-03-05         22      1659      P0\n",
       "CS1116      2014-08-25         13       857      P2\n",
       "...                ...        ...       ...     ...\n",
       "CS8996      2014-12-09         13       582      P2\n",
       "CS8997      2014-06-28         14       543      P2\n",
       "CS8998      2014-12-22         13       624      P2\n",
       "CS8999      2014-07-02         12       383      P2\n",
       "CS9000      2015-02-28         13       533      P2\n",
       "\n",
       "[6884 rows x 4 columns]"
      ]
     },
     "execution_count": 181,
     "metadata": {},
     "output_type": "execute_result"
    }
   ],
   "source": [
    "rfm"
   ]
  },
  {
   "cell_type": "markdown",
   "id": "77d6100b-e38d-4868-8cf6-7b10405e93e2",
   "metadata": {},
   "source": [
    "<h4>Churn Analysis</h4>"
   ]
  },
  {
   "cell_type": "code",
   "execution_count": 186,
   "id": "2b154c88-990b-4845-b341-99f9ec068524",
   "metadata": {},
   "outputs": [
    {
     "data": {
      "text/plain": [
       "<Axes: xlabel='response'>"
      ]
     },
     "execution_count": 186,
     "metadata": {},
     "output_type": "execute_result"
    },
    {
     "data": {
      "image/png": "[encoded data removed]",
      "text/plain": [
       "<Figure size 640x480 with 1 Axes>"
      ]
     },
     "metadata": {},
     "output_type": "display_data"
    }
   ],
   "source": [
    "# Count the number of churned and active customers\n",
    "churn_counts = df['response'].value_counts()\n",
    "\n",
    "# Plot\n",
    "churn_counts.plot(kind='bar')"
   ]
  },
  {
   "cell_type": "markdown",
   "id": "e180a23d-ccb1-4f0d-86c5-9679a8ac5a4a",
   "metadata": {},
   "source": [
    "<h4>Analyzing Top Customers</h4>"
   ]
  },
  {
   "cell_type": "code",
   "execution_count": 189,
   "id": "c74bede4-4000-4d88-bf33-fbb1eada6303",
   "metadata": {},
   "outputs": [
    {
     "data": {
      "text/plain": [
       "<Axes: xlabel='month_year'>"
      ]
     },
     "execution_count": 189,
     "metadata": {},
     "output_type": "execute_result"
    },
    {
     "data": {
      "image/png": "[encoded data removed]",
      "text/plain": [
       "<Figure size 640x480 with 1 Axes>"
      ]
     },
     "metadata": {},
     "output_type": "display_data"
    }
   ],
   "source": [
    "# Top 5 customers\n",
    "top_5_customers = monetary.sort_values(ascending=False).head(5).index\n",
    "\n",
    "# Filter transactions of top 5 customers\n",
    "top_customers_df = df[df['customer_id'].isin(top_5_customers)]\n",
    "\n",
    "# Plot their monthly sales\n",
    "top_customers_sales = top_customers_df.groupby(['customer_id', 'month_year'])['tran_amount'].sum().unstack(level=0)\n",
    "top_customers_sales.plot(kind='line')"
   ]
  },
  {
   "cell_type": "code",
   "execution_count": 191,
   "id": "724cf0ce-3f0f-4a58-b74a-9622427c9f19",
   "metadata": {},
   "outputs": [
    {
     "data": {
      "text/html": [
       "<div>\n",
       "<style scoped>\n",
       "    .dataframe tbody tr th:only-of-type {\n",
       "        vertical-align: middle;\n",
       "    }\n",
       "\n",
       "    .dataframe tbody tr th {\n",
       "        vertical-align: top;\n",
       "    }\n",
       "\n",
       "    .dataframe thead th {\n",
       "        text-align: right;\n",
       "    }\n",
       "</style>\n",
       "<table border=\"1\" class=\"dataframe\">\n",
       "  <thead>\n",
       "    <tr style=\"text-align: right;\">\n",
       "      <th></th>\n",
       "      <th>customer_id</th>\n",
       "      <th>trans_date</th>\n",
       "      <th>tran_amount</th>\n",
       "      <th>response</th>\n",
       "      <th>month</th>\n",
       "      <th>month_year</th>\n",
       "    </tr>\n",
       "  </thead>\n",
       "  <tbody>\n",
       "    <tr>\n",
       "      <th>0</th>\n",
       "      <td>CS5295</td>\n",
       "      <td>2013-02-11</td>\n",
       "      <td>35</td>\n",
       "      <td>1.0</td>\n",
       "      <td>2</td>\n",
       "      <td>2013-02</td>\n",
       "    </tr>\n",
       "    <tr>\n",
       "      <th>1</th>\n",
       "      <td>CS4768</td>\n",
       "      <td>2015-03-15</td>\n",
       "      <td>39</td>\n",
       "      <td>1.0</td>\n",
       "      <td>3</td>\n",
       "      <td>2015-03</td>\n",
       "    </tr>\n",
       "    <tr>\n",
       "      <th>2</th>\n",
       "      <td>CS2122</td>\n",
       "      <td>2013-02-26</td>\n",
       "      <td>52</td>\n",
       "      <td>0.0</td>\n",
       "      <td>2</td>\n",
       "      <td>2013-02</td>\n",
       "    </tr>\n",
       "    <tr>\n",
       "      <th>3</th>\n",
       "      <td>CS1217</td>\n",
       "      <td>2011-11-16</td>\n",
       "      <td>99</td>\n",
       "      <td>0.0</td>\n",
       "      <td>11</td>\n",
       "      <td>2011-11</td>\n",
       "    </tr>\n",
       "    <tr>\n",
       "      <th>4</th>\n",
       "      <td>CS1850</td>\n",
       "      <td>2013-11-20</td>\n",
       "      <td>78</td>\n",
       "      <td>0.0</td>\n",
       "      <td>11</td>\n",
       "      <td>2013-11</td>\n",
       "    </tr>\n",
       "    <tr>\n",
       "      <th>...</th>\n",
       "      <td>...</td>\n",
       "      <td>...</td>\n",
       "      <td>...</td>\n",
       "      <td>...</td>\n",
       "      <td>...</td>\n",
       "      <td>...</td>\n",
       "    </tr>\n",
       "    <tr>\n",
       "      <th>124995</th>\n",
       "      <td>CS8433</td>\n",
       "      <td>2011-06-26</td>\n",
       "      <td>64</td>\n",
       "      <td>0.0</td>\n",
       "      <td>6</td>\n",
       "      <td>2011-06</td>\n",
       "    </tr>\n",
       "    <tr>\n",
       "      <th>124996</th>\n",
       "      <td>CS7232</td>\n",
       "      <td>2014-08-19</td>\n",
       "      <td>38</td>\n",
       "      <td>0.0</td>\n",
       "      <td>8</td>\n",
       "      <td>2014-08</td>\n",
       "    </tr>\n",
       "    <tr>\n",
       "      <th>124997</th>\n",
       "      <td>CS8731</td>\n",
       "      <td>2014-11-28</td>\n",
       "      <td>42</td>\n",
       "      <td>0.0</td>\n",
       "      <td>11</td>\n",
       "      <td>2014-11</td>\n",
       "    </tr>\n",
       "    <tr>\n",
       "      <th>124998</th>\n",
       "      <td>CS8133</td>\n",
       "      <td>2013-12-14</td>\n",
       "      <td>13</td>\n",
       "      <td>0.0</td>\n",
       "      <td>12</td>\n",
       "      <td>2013-12</td>\n",
       "    </tr>\n",
       "    <tr>\n",
       "      <th>124999</th>\n",
       "      <td>CS7996</td>\n",
       "      <td>2014-12-13</td>\n",
       "      <td>36</td>\n",
       "      <td>0.0</td>\n",
       "      <td>12</td>\n",
       "      <td>2014-12</td>\n",
       "    </tr>\n",
       "  </tbody>\n",
       "</table>\n",
       "<p>124969 rows × 6 columns</p>\n",
       "</div>"
      ],
      "text/plain": [
       "       customer_id trans_date  tran_amount  response  month month_year\n",
       "0           CS5295 2013-02-11           35       1.0      2    2013-02\n",
       "1           CS4768 2015-03-15           39       1.0      3    2015-03\n",
       "2           CS2122 2013-02-26           52       0.0      2    2013-02\n",
       "3           CS1217 2011-11-16           99       0.0     11    2011-11\n",
       "4           CS1850 2013-11-20           78       0.0     11    2013-11\n",
       "...            ...        ...          ...       ...    ...        ...\n",
       "124995      CS8433 2011-06-26           64       0.0      6    2011-06\n",
       "124996      CS7232 2014-08-19           38       0.0      8    2014-08\n",
       "124997      CS8731 2014-11-28           42       0.0     11    2014-11\n",
       "124998      CS8133 2013-12-14           13       0.0     12    2013-12\n",
       "124999      CS7996 2014-12-13           36       0.0     12    2014-12\n",
       "\n",
       "[124969 rows x 6 columns]"
      ]
     },
     "execution_count": 191,
     "metadata": {},
     "output_type": "execute_result"
    }
   ],
   "source": [
    "df"
   ]
  },
  {
   "cell_type": "code",
   "execution_count": 193,
   "id": "3651faf3-3364-44c1-a883-72a9a9478401",
   "metadata": {},
   "outputs": [],
   "source": [
    "df.to_csv('Maindata.csv')"
   ]
  },
  {
   "cell_type": "code",
   "execution_count": 195,
   "id": "52a547f5-84b4-445d-abba-4d984e8332dc",
   "metadata": {},
   "outputs": [],
   "source": [
    "rfm.to_csv('AddAnalysis.csv')"
   ]
  },
  {
   "cell_type": "code",
   "execution_count": null,
   "id": "dbf4097e-09a6-4765-aac7-f16f0dc4c4db",
   "metadata": {},
   "outputs": [],
   "source": []
  }
 ],
 "metadata": {
  "kernelspec": {
   "display_name": "Python 3 (ipykernel)",
   "language": "python",
   "name": "python3"
  },
  "language_info": {
   "codemirror_mode": {
    "name": "ipython",
    "version": 3
   },
   "file_extension": ".py",
   "mimetype": "text/x-python",
   "name": "python",
   "nbconvert_exporter": "python",
   "pygments_lexer": "ipython3",
   "version": "3.12.7"
  }
 },
 "nbformat": 4,
 "nbformat_minor": 5
}
